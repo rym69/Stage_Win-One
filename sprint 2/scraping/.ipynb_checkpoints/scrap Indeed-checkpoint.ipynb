{
 "cells": [
  {
   "cell_type": "code",
   "execution_count": 1,
   "metadata": {},
   "outputs": [],
   "source": [
    "from selenium import webdriver\n",
    "from google_trans_new import google_translator \n",
    "import pandas as pd\n",
    "import codecs\n",
    "import requests, time, random, csv, os, sys\n",
    "from requests.exceptions import HTTPError\n",
    "from bs4 import BeautifulSoup\n",
    "# pip install beautifulsoup4\n",
    "# pip install requests\n",
    "# pip install selenium"
   ]
  },
  {
   "cell_type": "code",
   "execution_count": null,
   "metadata": {},
   "outputs": [],
   "source": [
    "##scrapinf appel d'offre sur indeed secteur banque et assurances\n",
    "\n",
    "def extract (page):\n",
    "    headers= {'User-Agent': 'Mozilla/5.0 (Windows NT 10.0; Win64; x64) AppleWebKit/537.36 (KHTML, like Gecko) Chrome/89.0.4389.90 Safari/537.36'}\n",
    "    url = f'https://fr.indeed.com/emplois?q=banque%20assurance&l=france&advn=9344337646366269&vjk=e81eb77f7922d735={page}'\n",
    "    r= requests.get(url, headers)\n",
    "    soup = BeautifulSoup(r.content, 'html.parser')\n",
    "    return soup\n",
    "\n",
    "def transform(soup):\n",
    "    divs = soup.find_all('div', class_ = 'jobsearch-SerpJobCard')\n",
    "    for item in divs:\n",
    "        title = item.find('a').text.strip()\n",
    "        company = item.find('span', class_ = 'company').text.strip()\n",
    "        try:\n",
    "            salary = item.find('span', class_='salaryText').text.strip()\n",
    "        except: \n",
    "            salary =''\n",
    "        summary = item.find('div', {'class': 'summary'}).text.strip().replace('\\n', '')\n",
    "        \n",
    "        job = {\n",
    "            'title': title,\n",
    "            'company': company,\n",
    "            'salary': salary,\n",
    "            'summary' : summary   \n",
    "        }\n",
    "        joblist.append(job)\n",
    "    return\n",
    "\n",
    "joblist = []\n",
    "\n",
    "for i in range(0,100,20):\n",
    "    print(f'Getting page, [i]')\n",
    "    c = extract(0)\n",
    "    transform(c)\n",
    "    \n",
    "df = pd.DataFrame(joblist)\n",
    "print(df.head())\n",
    "df.to_csv('jobsBanque.csv')"
   ]
  }
 ],
 "metadata": {
  "kernelspec": {
   "display_name": "Python 3",
   "language": "python",
   "name": "python3"
  },
  "language_info": {
   "codemirror_mode": {
    "name": "ipython",
    "version": 3
   },
   "file_extension": ".py",
   "mimetype": "text/x-python",
   "name": "python",
   "nbconvert_exporter": "python",
   "pygments_lexer": "ipython3",
   "version": "3.8.5"
  }
 },
 "nbformat": 4,
 "nbformat_minor": 4
}
