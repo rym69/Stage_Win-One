{
 "cells": [
  {
   "cell_type": "markdown",
   "metadata": {},
   "source": [
    "# word Embedding"
   ]
  },
  {
   "cell_type": "markdown",
   "metadata": {},
   "source": [
    "#### Word2Vec est un algorithme largement utilisé basé sur les réseaux de neurones, En utilisant de grandes quantités de texte brut non annoté, word2vec apprend automatiquement les relations entre les mots. Les résultats sont des vecteurs, un vecteur par mot, avec des relations linéaires remarquables qui nous permettent de faire des choses comme:\n",
    "\n",
    "##### vec («roi») - vec («homme») + vec («femme») = ~ vec («reine»)"
   ]
  },
  {
   "cell_type": "code",
   "execution_count": 9,
   "metadata": {},
   "outputs": [],
   "source": [
    "import gensim\n",
    "from gensim.models import Word2Vec\n",
    "from gensim.models import KeyedVectors\n",
    "from gensim.test.utils import lee_corpus_list\n",
    "from gensim.test.utils import datapath\n",
    "from gensim import utils\n",
    "from gensim.utils import simple_preprocess\n",
    "from sklearn.decomposition import PCA\n",
    "import numpy as np\n",
    "import pandas as pd\n",
    "import matplotlib.pyplot as plt\n",
    "import multiprocess\n",
    "import multiprocessing"
   ]
  },
  {
   "cell_type": "code",
   "execution_count": 2,
   "metadata": {},
   "outputs": [
    {
     "name": "stdout",
     "output_type": "stream",
     "text": [
      "Word2Vec(vocab=14, vector_size=100, alpha=0.025)\n",
      "['sentence', 'the', 'is', 'this', 'final', 'and', 'more', 'one', 'another', 'yet', 'second', 'word2vec', 'for', 'first']\n",
      "[-5.3622725e-04  2.3643016e-04  5.1033497e-03  9.0092728e-03\n",
      " -9.3029495e-03 -7.1168090e-03  6.4588715e-03  8.9729885e-03\n",
      " -5.0154282e-03 -3.7633730e-03  7.3805046e-03 -1.5334726e-03\n",
      " -4.5366143e-03  6.5540504e-03 -4.8601604e-03 -1.8160177e-03\n",
      "  2.8765798e-03  9.9187379e-04 -8.2852151e-03 -9.4488189e-03\n",
      "  7.3117660e-03  5.0702621e-03  6.7576934e-03  7.6286553e-04\n",
      "  6.3508893e-03 -3.4053659e-03 -9.4640255e-04  5.7685734e-03\n",
      " -7.5216386e-03 -3.9361049e-03 -7.5115822e-03 -9.3004224e-04\n",
      "  9.5381187e-03 -7.3191668e-03 -2.3337698e-03 -1.9377422e-03\n",
      "  8.0774352e-03 -5.9308959e-03  4.5161247e-05 -4.7537349e-03\n",
      " -9.6035507e-03  5.0072931e-03 -8.7595871e-03 -4.3918253e-03\n",
      " -3.5099984e-05 -2.9618264e-04 -7.6612402e-03  9.6147414e-03\n",
      "  4.9820566e-03  9.2331432e-03 -8.1579182e-03  4.4957972e-03\n",
      " -4.1370774e-03  8.2453492e-04  8.4986184e-03 -4.4621779e-03\n",
      "  4.5175003e-03 -6.7869616e-03 -3.5484887e-03  9.3985079e-03\n",
      " -1.5776539e-03  3.2137157e-04 -4.1406299e-03 -7.6826881e-03\n",
      " -1.5080094e-03  2.4697948e-03 -8.8802812e-04  5.5336617e-03\n",
      " -2.7429771e-03  2.2600652e-03  5.4557943e-03  8.3459523e-03\n",
      " -1.4537406e-03 -9.2081428e-03  4.3705511e-03  5.7178497e-04\n",
      "  7.4419067e-03 -8.1328390e-04 -2.6384138e-03 -8.7530091e-03\n",
      " -8.5655687e-04  2.8265619e-03  5.4014279e-03  7.0526553e-03\n",
      " -5.7031228e-03  1.8588186e-03  6.0888622e-03 -4.7980524e-03\n",
      " -3.1072616e-03  6.7976285e-03  1.6314745e-03  1.8991709e-04\n",
      "  3.4736372e-03  2.1777629e-04  9.6188262e-03  5.0606038e-03\n",
      " -8.9173913e-03 -7.0415614e-03  9.0145587e-04  6.3925339e-03]\n",
      "Word2Vec(vocab=14, vector_size=100, alpha=0.025)\n"
     ]
    }
   ],
   "source": [
    "# define training data\n",
    "sentences = [['this', 'is', 'the', 'first', 'sentence', 'for', 'word2vec'],\n",
    "    ['this', 'is', 'the', 'second', 'sentence'],\n",
    "    ['yet', 'another', 'sentence'],\n",
    "    ['one', 'more', 'sentence'],\n",
    "    ['and', 'the', 'final', 'sentence']]\n",
    "# train model\n",
    "model = Word2Vec(sentences, min_count=1)\n",
    "# summarize the loaded model\n",
    "print(model)\n",
    "# summarize vocabulary\n",
    "words = list(model.wv.key_to_index)\n",
    "print(words)\n",
    "# access vector for one word\n",
    "print(model.wv['sentence'])\n",
    "# save model\n",
    "model.save('model.bin')\n",
    "# load model\n",
    "new_model = Word2Vec.load('model.bin')\n",
    "print(new_model)"
   ]
  },
  {
   "cell_type": "code",
   "execution_count": 3,
   "metadata": {},
   "outputs": [
    {
     "data": {
      "text/plain": [
       "((100,),\n",
       " array([-0.00872748,  0.00213016, -0.00087354, -0.00931909, -0.00942814,\n",
       "        -0.00141072,  0.00443241,  0.00370407, -0.00649869, -0.00687307],\n",
       "       dtype=float32))"
      ]
     },
     "execution_count": 3,
     "metadata": {},
     "output_type": "execute_result"
    }
   ],
   "source": [
    "model.wv['and'].shape, model.wv['and'][:10]"
   ]
  },
  {
   "cell_type": "code",
   "execution_count": 4,
   "metadata": {},
   "outputs": [
    {
     "name": "stdout",
     "output_type": "stream",
     "text": [
      "\"Key 'rrrrrrrr' not present\"\n"
     ]
    }
   ],
   "source": [
    "try:\n",
    "    model.wv['rrrrrrrr']\n",
    "except KeyError as e:\n",
    "    print(e)"
   ]
  },
  {
   "cell_type": "code",
   "execution_count": 5,
   "metadata": {},
   "outputs": [],
   "source": [
    "X = model.wv[model.wv.key_to_index]"
   ]
  },
  {
   "cell_type": "code",
   "execution_count": 6,
   "metadata": {},
   "outputs": [],
   "source": [
    "pca = PCA(n_components=2)\n",
    "result = pca.fit_transform(X)"
   ]
  },
  {
   "cell_type": "code",
   "execution_count": 7,
   "metadata": {},
   "outputs": [
    {
     "data": {
      "image/png": "[encoded data removed]",
      "text/plain": [
       "<Figure size 432x288 with 1 Axes>"
      ]
     },
     "metadata": {
      "needs_background": "light"
     },
     "output_type": "display_data"
    }
   ],
   "source": [
    "plt.scatter(result[:, 0], result[:, 1])\n",
    "words = list(model.wv.key_to_index)\n",
    "for i, word in enumerate(words):\n",
    "    plt.annotate(word, xy=(result[i, 0], result[i, 1]))\n",
    "plt.show()"
   ]
  },
  {
   "cell_type": "markdown",
   "metadata": {},
   "source": [
    "#### test: créer notre propre embedding"
   ]
  },
  {
   "cell_type": "code",
   "execution_count": 8,
   "metadata": {},
   "outputs": [
    {
     "ename": "NameError",
     "evalue": "name 'pd' is not defined",
     "output_type": "error",
     "traceback": [
      "\u001b[1;31m---------------------------------------------------------------------------\u001b[0m",
      "\u001b[1;31mNameError\u001b[0m                                 Traceback (most recent call last)",
      "\u001b[1;32m<ipython-input-8-42a5fab03369>\u001b[0m in \u001b[0;36m<module>\u001b[1;34m\u001b[0m\n\u001b[0;32m      7\u001b[0m \u001b[0mfile_extension\u001b[0m \u001b[1;33m=\u001b[0m \u001b[1;34m'.txt'\u001b[0m\u001b[1;33m\u001b[0m\u001b[1;33m\u001b[0m\u001b[0m\n\u001b[0;32m      8\u001b[0m \u001b[1;33m\u001b[0m\u001b[0m\n\u001b[1;32m----> 9\u001b[1;33m \u001b[0mdf\u001b[0m \u001b[1;33m=\u001b[0m \u001b[0mpd\u001b[0m\u001b[1;33m.\u001b[0m\u001b[0mread_csv\u001b[0m\u001b[1;33m(\u001b[0m\u001b[0mpath\u001b[0m \u001b[1;33m+\u001b[0m \u001b[0mfile_name\u001b[0m \u001b[1;33m+\u001b[0m \u001b[0mfile_extension\u001b[0m\u001b[1;33m,\u001b[0m \u001b[0msep\u001b[0m\u001b[1;33m=\u001b[0m\u001b[1;34m\"\\t\"\u001b[0m\u001b[1;33m,\u001b[0m \u001b[0mencoding\u001b[0m\u001b[1;33m=\u001b[0m\u001b[1;34m'utf-8'\u001b[0m\u001b[1;33m)\u001b[0m\u001b[1;33m\u001b[0m\u001b[1;33m\u001b[0m\u001b[0m\n\u001b[0m\u001b[0;32m     10\u001b[0m \u001b[0mdf_json\u001b[0m \u001b[1;33m=\u001b[0m \u001b[0mdf\u001b[0m\u001b[1;33m.\u001b[0m\u001b[0mreset_index\u001b[0m\u001b[1;33m(\u001b[0m\u001b[0mdrop\u001b[0m\u001b[1;33m=\u001b[0m\u001b[1;32mTrue\u001b[0m\u001b[1;33m)\u001b[0m\u001b[1;33m\u001b[0m\u001b[1;33m\u001b[0m\u001b[0m\n",
      "\u001b[1;31mNameError\u001b[0m: name 'pd' is not defined"
     ]
    }
   ],
   "source": [
    "# Openning all the treated data files\n",
    "\n",
    "path = 'C:/Users/BCS/Documents/M2/Stage/'\n",
    "\n",
    "file_name = 'tokens_stem'\n",
    "\n",
    "file_extension = '.txt'\n",
    "\n",
    "df = pd.read_csv(path + file_name + file_extension, sep=\"\\t\", encoding='utf-8')\n",
    "df_json = df.reset_index(drop=True)\n"
   ]
  },
  {
   "cell_type": "code",
   "execution_count": null,
   "metadata": {},
   "outputs": [],
   "source": [
    "# créa modèle\n",
    "cores = multiprocessing.cpu_count()"
   ]
  },
  {
   "cell_type": "code",
   "execution_count": null,
   "metadata": {},
   "outputs": [],
   "source": [
    "model_size = 100"
   ]
  },
  {
   "cell_type": "code",
   "execution_count": null,
   "metadata": {},
   "outputs": [],
   "source": [
    "model = gensim.models.Word2Vec(df_json, size = model_size, window = 5, min_count = 2, \n",
    "                               workers = cores-1, sg = 0, max_final_vocab = 5000, iter=10)"
   ]
  }
 ],
 "metadata": {
  "kernelspec": {
   "display_name": "Python 3",
   "language": "python",
   "name": "python3"
  },
  "language_info": {
   "codemirror_mode": {
    "name": "ipython",
    "version": 3
   },
   "file_extension": ".py",
   "mimetype": "text/x-python",
   "name": "python",
   "nbconvert_exporter": "python",
   "pygments_lexer": "ipython3",
   "version": "3.8.5"
  }
 },
 "nbformat": 4,
 "nbformat_minor": 4
}
